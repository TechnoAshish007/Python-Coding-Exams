{
 "cells": [
  {
   "cell_type": "raw",
   "metadata": {},
   "source": [
    "Lack of practitce questions\n",
    "For and While loop\n",
    "Pattern problem\n",
    "Nested operations\n",
    "Basis: Implementation\n",
    "\n",
    "Pattern Probelms and Solution: https://www.youtube.com/watch?v=Kux7B1t_yeA&list=PLd3UqWTnYXOmHGIurNDgStXNOsxjItRAz"
   ]
  },
  {
   "cell_type": "code",
   "execution_count": null,
   "metadata": {},
   "outputs": [],
   "source": [
    "# In Python\n",
    "# Lists: Dump anything\n",
    "# Tuple : Immutable: \n",
    "# Dictionaries: Named data structure: Save everything with a name: Key: Values\n",
    "# Sets: Only unique items: \n",
    "# Strings: Anything in a form of a string(text)"
   ]
  },
  {
   "cell_type": "code",
   "execution_count": 6,
   "metadata": {},
   "outputs": [
    {
     "name": "stdout",
     "output_type": "stream",
     "text": [
      "44.2\n"
     ]
    }
   ],
   "source": [
    "# 1. Write a Python program to sum all the items in a list\n",
    "\n",
    "ls = [1,5,7,8,3,5,7,4, 4.2]\n",
    "c = 0\n",
    "# Take one element at a time\n",
    "# you will add it to some variable\n",
    "\n",
    "# For: When we know how many times we need to run the loop\n",
    "# While: When you wanted to run the loop until cretain condition is True\n",
    "\n",
    "# for i in ls:\n",
    "# for i in range:\n",
    "\n",
    "# for i in range(0, len(ls)):\n",
    "#     c=  c + ls[i]\n",
    "# print(c)\n",
    "    \n",
    "    \n",
    "for i in ls:\n",
    "    c = c+i\n",
    "print(c)"
   ]
  },
  {
   "cell_type": "code",
   "execution_count": 16,
   "metadata": {},
   "outputs": [
    {
     "data": {
      "text/plain": [
       "False"
      ]
     },
     "execution_count": 16,
     "metadata": {},
     "output_type": "execute_result"
    }
   ],
   "source": [
    "\"\""
   ]
  },
  {
   "cell_type": "code",
   "execution_count": 24,
   "metadata": {},
   "outputs": [
    {
     "name": "stdout",
     "output_type": "stream",
     "text": [
      "44.2\n"
     ]
    }
   ],
   "source": [
    "ls = [1,5,7,8,'python',3,5,7,4, 'sumit', 4.2]\n",
    "c = 0\n",
    "\n",
    "for i in ls:\n",
    "    #CHeck if i is an int ,float or not?: wE CAN ADD\n",
    "    # If NOT? IGNORE\n",
    "    try: \n",
    "        if i==int(i) or i==float(i):\n",
    "            c = c+i\n",
    "    except:\n",
    "        pass\n",
    "print(c)"
   ]
  },
  {
   "cell_type": "code",
   "execution_count": 30,
   "metadata": {},
   "outputs": [
    {
     "name": "stdout",
     "output_type": "stream",
     "text": [
      "16\n"
     ]
    }
   ],
   "source": [
    "ls = [1,2,3,4,6, \"sumit\", \"python\"]\n",
    "\n",
    "c=0\n",
    "for i in ls:\n",
    "    if type(i)==int:\n",
    "        c = c+i\n",
    "    else:\n",
    "        pass\n",
    "\n",
    "print(c)\n",
    "    "
   ]
  },
  {
   "cell_type": "code",
   "execution_count": null,
   "metadata": {},
   "outputs": [],
   "source": [
    "ls = [1,2,3,4,6, \"sumit\", \"python\"]\n",
    "\n",
    "c=0\n",
    "for i in ls:\n",
    "    if isinstance(i,int):\n",
    "        c=c+i\n",
    "print(c)"
   ]
  },
  {
   "cell_type": "code",
   "execution_count": 31,
   "metadata": {},
   "outputs": [
    {
     "data": {
      "text/plain": [
       "[25, 36, 49, 64]"
      ]
     },
     "execution_count": 31,
     "metadata": {},
     "output_type": "execute_result"
    }
   ],
   "source": [
    "# Print a square of the given list: [5,6,7,8]\n",
    "\n",
    "\n",
    "ls = [5,6,7,8]\n",
    "\n",
    "# Take each element at a time\n",
    "# Sqaure it\n",
    "# Add it to a new list\n",
    "\n",
    "n_ls = []\n",
    "for i in ls:\n",
    "    n_ls.append(i**2)\n",
    "n_ls"
   ]
  },
  {
   "cell_type": "code",
   "execution_count": 32,
   "metadata": {},
   "outputs": [
    {
     "data": {
      "text/plain": [
       "[25, 36, 49, 64]"
      ]
     },
     "execution_count": 32,
     "metadata": {},
     "output_type": "execute_result"
    }
   ],
   "source": [
    "# List comprehensions\n",
    "# Create a empty list\n",
    "# the output\n",
    "# from where this i is coming\n",
    "# Conditional statement\n",
    "[i**2 for i in ls]"
   ]
  },
  {
   "cell_type": "code",
   "execution_count": 60,
   "metadata": {},
   "outputs": [
    {
     "name": "stdout",
     "output_type": "stream",
     "text": [
      "Enter a email id: random1@gmail.com\n",
      "True\n"
     ]
    }
   ],
   "source": [
    "'''Q You have a list of email ids. The username for each email consists of \n",
    "all characters occurring before the @ symbol. You will need to write a code \n",
    "that will return a True or False after accepting user's input on the email id \n",
    "and check if the usernames is in the list of usernames or not. If it is present print True, \n",
    "else print False. We have provided a template below. Fill it up and test it.'''\n",
    "\n",
    "list_of_usernames = ['Random1 ','Random2','rAndom3','Random4 ' ]\n",
    "\n",
    "email = input(\"Enter a email id:\")\n",
    "\n",
    "out_username = email.split('@')\n",
    "# out_username[0] in list_of_usernames\n",
    "\n",
    "if out_username[0].lower().strip() in [i.strip().lower() for i in list_of_usernames]:\n",
    "    print(True)\n",
    "else:\n",
    "    print(False)\n",
    "\n",
    "# Accept an email if from the user\n",
    "# Extract username from the email\n",
    "# Check if the username if in the list\n",
    "\n",
    "# While accepting the input: Convert it into lowercase\n",
    "# Clean the list of usernames"
   ]
  },
  {
   "cell_type": "code",
   "execution_count": 40,
   "metadata": {},
   "outputs": [
    {
     "data": {
      "text/plain": [
       "'rock9935'"
      ]
     },
     "execution_count": 40,
     "metadata": {},
     "output_type": "execute_result"
    }
   ],
   "source": [
    "out_username = email.split('@')[0]"
   ]
  },
  {
   "cell_type": "code",
   "execution_count": 47,
   "metadata": {},
   "outputs": [],
   "source": [
    "def check_username(a):\n",
    "    b = a.split('@')[0]\n",
    "    if b in list_of_usernames:\n",
    "        return True\n",
    "    else:\n",
    "        return False"
   ]
  },
  {
   "cell_type": "code",
   "execution_count": 48,
   "metadata": {},
   "outputs": [
    {
     "data": {
      "text/plain": [
       "True"
      ]
     },
     "execution_count": 48,
     "metadata": {},
     "output_type": "execute_result"
    }
   ],
   "source": [
    "check_username(\"random1@gmail.com\")"
   ]
  },
  {
   "cell_type": "code",
   "execution_count": 57,
   "metadata": {},
   "outputs": [
    {
     "data": {
      "text/plain": [
       "['random1', 'random2', 'random3', 'random4']"
      ]
     },
     "execution_count": 57,
     "metadata": {},
     "output_type": "execute_result"
    }
   ],
   "source": [
    "list_of_usernames = ['Random1 ','Random2','rAndom3','Random4 ' ]\n",
    "list(map(lambda x:x.strip().lower(), list_of_usernames))"
   ]
  },
  {
   "cell_type": "code",
   "execution_count": 62,
   "metadata": {},
   "outputs": [
    {
     "data": {
      "text/plain": [
       "[3, 6, 9]"
      ]
     },
     "execution_count": 62,
     "metadata": {},
     "output_type": "execute_result"
    }
   ],
   "source": [
    "# Filter\n",
    "\n",
    "ls = [1,2,3,4,5,6,7,8,9,10]\n",
    "list(filter(lambda x: True if x%3==0 else False, ls))"
   ]
  },
  {
   "cell_type": "code",
   "execution_count": 65,
   "metadata": {},
   "outputs": [
    {
     "data": {
      "text/plain": [
       "[False, False, True, False, False, True, False, False, True, False]"
      ]
     },
     "execution_count": 65,
     "metadata": {},
     "output_type": "execute_result"
    }
   ],
   "source": [
    "ls = [1,2,3,4,5,6,7,8,9,10]\n",
    "list(map(lambda x: True if x%3==0 else False, ls))"
   ]
  },
  {
   "cell_type": "code",
   "execution_count": 66,
   "metadata": {},
   "outputs": [
    {
     "data": {
      "text/plain": [
       "36"
      ]
     },
     "execution_count": 66,
     "metadata": {},
     "output_type": "execute_result"
    }
   ],
   "source": [
    "# Reduce: single value answer\n",
    "\n",
    "from functools import reduce\n",
    "ls = [1,2,3,4,5,6,7,8]\n",
    "reduce(lambda x,y: x+y, ls)"
   ]
  },
  {
   "cell_type": "code",
   "execution_count": 74,
   "metadata": {},
   "outputs": [
    {
     "name": "stdout",
     "output_type": "stream",
     "text": [
      "4\n"
     ]
    },
    {
     "data": {
      "text/plain": [
       "24"
      ]
     },
     "execution_count": 74,
     "metadata": {},
     "output_type": "execute_result"
    }
   ],
   "source": [
    "# Factoricals\n",
    "\n",
    "# 3! = 3*2*1\n",
    "# 4! = 4*3*2*1\n",
    "\n",
    "n = int(input())\n",
    "reduce(lambda x,y: x*y, range(1, n+1))"
   ]
  },
  {
   "cell_type": "code",
   "execution_count": 75,
   "metadata": {},
   "outputs": [
    {
     "data": {
      "text/plain": [
       "[1, 2, 3, 4]"
      ]
     },
     "execution_count": 75,
     "metadata": {},
     "output_type": "execute_result"
    }
   ],
   "source": [
    "[ i for i in range(1, n+1) ]"
   ]
  },
  {
   "cell_type": "raw",
   "metadata": {},
   "source": [
    "Dictionaries\n",
    "{\"name\": [comple order]}\n",
    "\n",
    "order and the total price"
   ]
  },
  {
   "cell_type": "raw",
   "metadata": {},
   "source": [
    "*\n",
    "**\n",
    "***\n",
    "****\n",
    "*****\n",
    "****\n",
    "***\n",
    "**\n",
    "*"
   ]
  },
  {
   "cell_type": "code",
   "execution_count": 80,
   "metadata": {},
   "outputs": [
    {
     "name": "stdout",
     "output_type": "stream",
     "text": [
      "*\n",
      "**\n",
      "***\n",
      "****\n",
      "*****\n",
      "****\n",
      "***\n",
      "**\n",
      "*\n"
     ]
    }
   ],
   "source": [
    "star = ''\n",
    "for i in range(0, 9):\n",
    "    if i <=4:\n",
    "        star = star+'*'\n",
    "        print(star)\n",
    "    else:\n",
    "        star  = star[:-1]\n",
    "        print(star)"
   ]
  },
  {
   "cell_type": "code",
   "execution_count": 78,
   "metadata": {},
   "outputs": [
    {
     "data": {
      "text/plain": [
       "'****'"
      ]
     },
     "execution_count": 78,
     "metadata": {},
     "output_type": "execute_result"
    }
   ],
   "source": [
    "s = '*****'\n",
    "s[:-1]"
   ]
  },
  {
   "cell_type": "code",
   "execution_count": 79,
   "metadata": {},
   "outputs": [
    {
     "data": {
      "text/plain": [
       "[1, 2, 3]"
      ]
     },
     "execution_count": 79,
     "metadata": {},
     "output_type": "execute_result"
    }
   ],
   "source": [
    "ls = [1,2,3,4,5,6]\n",
    "ls[0:3]"
   ]
  },
  {
   "cell_type": "markdown",
   "metadata": {},
   "source": [
    "<img src = '1.png'></img>"
   ]
  },
  {
   "cell_type": "markdown",
   "metadata": {},
   "source": [
    "<img src = '2.png'></img>"
   ]
  }
 ],
 "metadata": {
  "kernelspec": {
   "display_name": "Python 3",
   "language": "python",
   "name": "python3"
  },
  "language_info": {
   "codemirror_mode": {
    "name": "ipython",
    "version": 3
   },
   "file_extension": ".py",
   "mimetype": "text/x-python",
   "name": "python",
   "nbconvert_exporter": "python",
   "pygments_lexer": "ipython3",
   "version": "3.7.4"
  }
 },
 "nbformat": 4,
 "nbformat_minor": 2
}
