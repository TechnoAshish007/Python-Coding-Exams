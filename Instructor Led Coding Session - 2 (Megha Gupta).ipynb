{
 "cells": [
  {
   "cell_type": "markdown",
   "metadata": {},
   "source": [
    "#### In the binary search, you kept reducing the search space into half of the previous search space. In this question, can you similarly reduce the search space in one-third of the last space search and write a searching algorithm?"
   ]
  },
  {
   "cell_type": "code",
   "execution_count": 1,
   "metadata": {},
   "outputs": [
    {
     "name": "stdout",
     "output_type": "stream",
     "text": [
      "[3, 5, 7, 9, 11, 13, 15, 17, 19, 21, 23, 25, 27]\n",
      "1\n",
      "-1\n"
     ]
    }
   ],
   "source": [
    "import ast\n",
    "input_list = ast.literal_eval(input()) #Input List\n",
    "key = int(input()) # Input Key\n",
    "\n",
    "def ternary_search(sorted_list, key):\n",
    "    # Divide search space in 3 partitions \n",
    "    l = 0 # leftmost index of the search space\n",
    "    r = len(sorted_list)-1 # Rigtmost Index of the search space\n",
    "    while (l<=r):\n",
    "        \n",
    "        mid1 = l+(r-l)//3\n",
    "        mid2 = l+2*((r-l)//3)\n",
    "\n",
    "     # Check the vaalue of the junction\n",
    "        if(key == sorted_list[mid1]):\n",
    "            return mid1\n",
    "        elif (key == sorted_list[mid2]):\n",
    "            return mid2\n",
    "    # Check how the key compared with the value of the junctions and update the search space\n",
    "        elif (key < sorted_list[mid1]):\n",
    "            r = mid1 -1\n",
    "        elif (key < sorted_list[mid2]):\n",
    "            l = mid1 + 1\n",
    "            r = mid2 -1 \n",
    "        else:\n",
    "    # key > sortted_list [mid2]\n",
    "            l = mid2 + 1           \n",
    "    return -1\n",
    "    \n",
    "print(ternary_search(input_list, key))\n",
    "            \n",
    "\n"
   ]
  },
  {
   "cell_type": "markdown",
   "metadata": {},
   "source": [
    "#### Sanskar and Mahima are playing the String Game.\n",
    "\n",
    "##### Rules of the game are as follows.\n",
    "\n",
    "##### Both players are given the same string, S.\n",
    "\n",
    "##### Both players have to make substrings using the letters of the string S.\n",
    "\n",
    "##### Sanskar has to make words starting with consonants.\n",
    "\n",
    "##### Mahima has to make words starting with vowels.\n",
    "\n",
    "#### The game ends when both players have made all possible substrings.\n",
    "\n",
    "##### Scoring of the game is done by the following rule\n",
    "\n",
    "##### A player gets +1 point for each occurrence of the substring in the string S."
   ]
  },
  {
   "cell_type": "code",
   "execution_count": 2,
   "metadata": {},
   "outputs": [
    {
     "name": "stdout",
     "output_type": "stream",
     "text": [
      "BANANA\n",
      "Sanskar 12\n"
     ]
    }
   ],
   "source": [
    "import numpy as np\n",
    "import pandas as pd\n",
    "\n",
    "# Read the input\n",
    "\n",
    "S = input()\n",
    "S = S.upper()\n",
    "\n",
    "sanskar = 0\n",
    "mahima = 0\n",
    "\n",
    "for i in range (len(S)):\n",
    "    num_substrings  =  len(S)-i\n",
    "    if (S[i] in [\"A\", \"E\", \"I\", \"O\", \"U\"]):\n",
    "        mahima += num_substrings # Is a vowel\n",
    "        \n",
    "    else:\n",
    "        sanskar += num_substrings # Is a consonant\n",
    "        \n",
    "if (sanskar > mahima):\n",
    "    print('Sanskar {}'.format(sanskar))\n",
    "elif (mahima > sanskar):\n",
    "    print ('Mahima {}'.format(mahima))\n",
    "else:\n",
    "    print('Draw')\n",
    "    "
   ]
  },
  {
   "cell_type": "markdown",
   "metadata": {},
   "source": [
    "#### Given a positive integer 'n', print the binary representation of the number.\n",
    " \n",
    "#### Constraint\n",
    "#### n < 10000\n",
    " \n",
    "#### Input format: A single integer denoting 'n'\n",
    "#### Output format: A string denoting the binary representation of the number 'n'\n",
    " \n",
    "#### Sample Input  : 19\n",
    "#### Sample Output : 10011\n"
   ]
  },
  {
   "cell_type": "code",
   "execution_count": 3,
   "metadata": {},
   "outputs": [
    {
     "name": "stdout",
     "output_type": "stream",
     "text": [
      "29\n",
      "11101\n"
     ]
    }
   ],
   "source": [
    "import numpy as np \n",
    "import pandas as pd\n",
    "\n",
    "# Read the input\n",
    "n = int(input())\n",
    "\n",
    "result = ''\n",
    "\n",
    "while (n>0):\n",
    "    result += str(n%2)\n",
    "    n = n//2\n",
    "    \n",
    "print(result[::-1])\n"
   ]
  },
  {
   "cell_type": "markdown",
   "metadata": {},
   "source": [
    "#### In data science, quite often you need to implement research papers and write code according to what's present in those papers. Research papers have a lot of maths involved and you need to implement the maths in code. In this exercise, you're required to implement some maths in code. The problem is as follows:\n",
    "\n",
    "#### For fixed integers a, b, c, define a weird function F(n) as follows: \n",
    "#### F(n) = n - c for all n > b \n",
    "#### F(n) = F(a + F(a + F(a + F(a + n)))) for all n ≤ b. \n",
    " \n",
    "#### Also, define S(a, b, c) = ∑F(n) where n takes the values 0 till b [in other words, S(a, b, c) = F(0) + F(1) + F(2) + .... F(b-1) + F(b)].\n",
    "\n",
    "#### The input will be the value of a, b and c. The output should be S(a, b, c). You can define the functions in your own customized way with no restrictions on the number of parameters. For example, you can define the function S which can take additional parameters than a, b and c. Just make sure the code behaves as per the maths."
   ]
  },
  {
   "cell_type": "code",
   "execution_count": 5,
   "metadata": {},
   "outputs": [
    {
     "name": "stdout",
     "output_type": "stream",
     "text": [
      "20,100,15\n"
     ]
    },
    {
     "ename": "NameError",
     "evalue": "name 'input_string' is not defined",
     "output_type": "error",
     "traceback": [
      "\u001b[1;31m---------------------------------------------------------------------------\u001b[0m",
      "\u001b[1;31mNameError\u001b[0m                                 Traceback (most recent call last)",
      "\u001b[1;32m<ipython-input-5-a7ef90b7f4f5>\u001b[0m in \u001b[0;36m<module>\u001b[1;34m\u001b[0m\n\u001b[0;32m      1\u001b[0m \u001b[0minput_str\u001b[0m \u001b[1;33m=\u001b[0m \u001b[0minput\u001b[0m\u001b[1;33m(\u001b[0m\u001b[1;33m)\u001b[0m\u001b[1;33m\u001b[0m\u001b[1;33m\u001b[0m\u001b[0m\n\u001b[1;32m----> 2\u001b[1;33m \u001b[0minput_list\u001b[0m \u001b[1;33m=\u001b[0m \u001b[0minput_string\u001b[0m\u001b[1;33m.\u001b[0m\u001b[0msplit\u001b[0m\u001b[1;33m(\u001b[0m\u001b[1;34m','\u001b[0m\u001b[1;33m)\u001b[0m\u001b[1;33m\u001b[0m\u001b[1;33m\u001b[0m\u001b[0m\n\u001b[0m\u001b[0;32m      3\u001b[0m \u001b[1;33m\u001b[0m\u001b[0m\n\u001b[0;32m      4\u001b[0m \u001b[0ma\u001b[0m \u001b[1;33m=\u001b[0m \u001b[0mint\u001b[0m\u001b[1;33m(\u001b[0m\u001b[0minput_list\u001b[0m\u001b[1;33m[\u001b[0m\u001b[1;36m0\u001b[0m\u001b[1;33m]\u001b[0m\u001b[1;33m)\u001b[0m\u001b[1;33m\u001b[0m\u001b[1;33m\u001b[0m\u001b[0m\n\u001b[0;32m      5\u001b[0m \u001b[0mb\u001b[0m \u001b[1;33m=\u001b[0m \u001b[0mint\u001b[0m\u001b[1;33m(\u001b[0m\u001b[0minput_list\u001b[0m\u001b[1;33m[\u001b[0m\u001b[1;36m1\u001b[0m\u001b[1;33m]\u001b[0m\u001b[1;33m)\u001b[0m\u001b[1;33m\u001b[0m\u001b[1;33m\u001b[0m\u001b[0m\n",
      "\u001b[1;31mNameError\u001b[0m: name 'input_string' is not defined"
     ]
    }
   ],
   "source": [
    "input_str = input()\n",
    "input_list = input_string.split(',')\n",
    "\n",
    "a = int(input_list[0])\n",
    "b = int(input_list[1])\n",
    "c = int(input_list[2])\n",
    "\n",
    "# write code here\n",
    "def weird_function(n, a, b, c):\n",
    "    if (n>b):\n",
    "        return n-c\n",
    "    else:\n",
    "        add = weird_function(a+n, a, b, c)\n",
    "        add1 = weird_function(a+add, a, b, c)\n",
    "        add2 = weird_function(a+add1, a, b, c)\n",
    "        return weird_function(a+add2, a, b, c)\n",
    "        \n",
    "def large_sum(a, b, c):\n",
    "    s=0\n",
    "    for n in range(b+1):\n",
    "        s += weird_function(n, a, b, c)\n",
    "        \n",
    "    return s\n",
    "\n",
    "# store the result in the following variable\n",
    "result = large_sum(a, b, c)\n",
    "\n",
    "\n",
    "# print result -- do not change the following code\n",
    "print(result)"
   ]
  },
  {
   "cell_type": "code",
   "execution_count": 6,
   "metadata": {},
   "outputs": [
    {
     "name": "stdout",
     "output_type": "stream",
     "text": [
      "1\n",
      "-1.000000\n"
     ]
    }
   ],
   "source": [
    "n = int(input())\n",
    "\n",
    "def f(n, x):\n",
    "    return n**x + x\n",
    "l = -1\n",
    "r = 0\n",
    "\n",
    "while (abs(r-l)>10**-8):\n",
    "    mid = (l+r)/2\n",
    "    \n",
    "    if f(n, mid)==0:\n",
    "        break\n",
    "        \n",
    "    elif f(n, mid)>0:\n",
    "        r  = mid\n",
    "        \n",
    "    else:\n",
    "        l = mid\n",
    "        \n",
    "print('{:.6f}'.format(mid))"
   ]
  },
  {
   "cell_type": "code",
   "execution_count": null,
   "metadata": {},
   "outputs": [],
   "source": []
  }
 ],
 "metadata": {
  "kernelspec": {
   "display_name": "Python 3",
   "language": "python",
   "name": "python3"
  },
  "language_info": {
   "codemirror_mode": {
    "name": "ipython",
    "version": 3
   },
   "file_extension": ".py",
   "mimetype": "text/x-python",
   "name": "python",
   "nbconvert_exporter": "python",
   "pygments_lexer": "ipython3",
   "version": "3.7.4"
  }
 },
 "nbformat": 4,
 "nbformat_minor": 2
}
