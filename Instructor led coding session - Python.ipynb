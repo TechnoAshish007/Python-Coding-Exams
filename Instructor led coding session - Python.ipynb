{
 "cells": [
  {
   "cell_type": "markdown",
   "metadata": {},
   "source": [
    "# Lego Stack\n",
    "### You are given a row of Lego Blocks consisting of n blocks. All the blocks given have a square base whose side length is known. You need to stack the blocks over each other and create a vertical tower. Block-1 can go over Block-2 only if sideLength(Block-2)=>sideLength(Block-1).\n",
    "\n",
    "### From the row of Lego blocks, you can only pick up either the leftmost or rightmost block.\n",
    "\n",
    "#### Print \"Possible\" if it is possible to stack all n cubes this way or else print \"Impossible\"."
   ]
  },
  {
   "cell_type": "code",
   "execution_count": 1,
   "metadata": {},
   "outputs": [
    {
     "ename": "SyntaxError",
     "evalue": "unexpected EOF while parsing (<unknown>, line 0)",
     "output_type": "error",
     "traceback": [
      "Traceback \u001b[1;36m(most recent call last)\u001b[0m:\n",
      "  File \u001b[0;32m\"C:\\ProgramData\\Anaconda3\\lib\\site-packages\\IPython\\core\\interactiveshell.py\"\u001b[0m, line \u001b[0;32m3326\u001b[0m, in \u001b[0;35mrun_code\u001b[0m\n    exec(code_obj, self.user_global_ns, self.user_ns)\n",
      "  File \u001b[0;32m\"<ipython-input-1-bbd758442827>\"\u001b[0m, line \u001b[0;32m3\u001b[0m, in \u001b[0;35m<module>\u001b[0m\n    sides = ast.literal_eval(input_str)#list of side lengths\n",
      "  File \u001b[0;32m\"C:\\ProgramData\\Anaconda3\\lib\\ast.py\"\u001b[0m, line \u001b[0;32m46\u001b[0m, in \u001b[0;35mliteral_eval\u001b[0m\n    node_or_string = parse(node_or_string, mode='eval')\n",
      "\u001b[1;36m  File \u001b[1;32m\"C:\\ProgramData\\Anaconda3\\lib\\ast.py\"\u001b[1;36m, line \u001b[1;32m35\u001b[1;36m, in \u001b[1;35mparse\u001b[1;36m\u001b[0m\n\u001b[1;33m    return compile(source, filename, mode, PyCF_ONLY_AST)\u001b[0m\n",
      "\u001b[1;36m  File \u001b[1;32m\"<unknown>\"\u001b[1;36m, line \u001b[1;32munknown\u001b[0m\n\u001b[1;33m    \u001b[0m\n\u001b[1;37m    ^\u001b[0m\n\u001b[1;31mSyntaxError\u001b[0m\u001b[1;31m:\u001b[0m unexpected EOF while parsing\n"
     ]
    }
   ],
   "source": [
    "import ast,sys\n",
    "input_str = sys.stdin.read()\n",
    "sides = ast.literal_eval(input_str)#list of side lengths\n",
    "\n",
    "# lists are mutable i.e elements can be updated\n",
    "\n",
    "chosen_idx = 0 # a variable whose value can only be 0 or -1\n",
    "result = \"Possible\" # we can change the value to impossible later if required\n",
    "last_placed_side =  max(sides)\n",
    "\n",
    "while (len(sides))>0:\n",
    "    # check the bigger block among leftmost & rightmost\n",
    "    if (sides[0] >= sides[-1]):\n",
    "        chosen_idx = 0\n",
    "        chosen_side = sides[0]\n",
    "    else:\n",
    "        chosen_idx = -1\n",
    "        chosen_side = sides[-1]\n",
    "\n",
    "# check if the chosen block is atleast as small as the last placed block in the tower\n",
    "    if (chosen_side <= last_placed_side):\n",
    "        last_placed_side =  chosen_side\n",
    "        del(sides[chosen_idx])\n",
    "    \n",
    "    else: # the chosen block is bigger than the last placed block\n",
    "        result = \"Impossible\"\n",
    "        break\n",
    "\n",
    "print(result)"
   ]
  },
  {
   "cell_type": "markdown",
   "metadata": {},
   "source": [
    "## Pascal's Triangle\n",
    "\n",
    "\n",
    "A pascal's triangle is a very interesting mathematical concept.\n",
    "Each number here is a sum of the two numbers directly above it.\n",
    "Following is an 8 level Pascal's triangle:\n",
    "\n",
    "<img src = https://upload.wikimedia.org/wikipedia/commons/c/ca/Pascal_triangle_small.png></img>\n",
    "\n",
    "\n",
    "You can read about Pascal's triangle here.\n",
    "Your task is to print an nth level of Pascal's triangle.\n",
    "The input will contain an integer n.\n",
    "The output will contain 1 line of the list of numbers representing the nth row of Pascal's triangle.\n",
    "\n",
    "Sample Input:\n",
    "6\n",
    "Sample Output:\n",
    "\n",
    "[1, 5, 10, 10, 5, 1]"
   ]
  },
  {
   "cell_type": "code",
   "execution_count": 2,
   "metadata": {},
   "outputs": [
    {
     "name": "stdout",
     "output_type": "stream",
     "text": [
      "6\n",
      "[1, 5, 10, 10, 5, 1]\n"
     ]
    }
   ],
   "source": [
    "#input has been taken for you\n",
    "n=int(input())\n",
    "\n",
    "# each row starts & end with a 1\n",
    "# each row depends on the row above it\n",
    "\n",
    "def pascal_triangle(level):\n",
    "    # gives the n th row in pascal triangle\n",
    "    \n",
    "    row = [1]\n",
    "    if (level>1):\n",
    "        row_above = pascal_triangle(level-1)\n",
    "        for i in range (len(row_above)-1):\n",
    "            row.append(row_above[i]+ row_above[i+1])\n",
    "        row.append(1)\n",
    "        \n",
    "    return row\n",
    "print(pascal_triangle(n))"
   ]
  },
  {
   "cell_type": "markdown",
   "metadata": {},
   "source": [
    "## Find Extra Character\n",
    "### Description\n",
    "#### Given two strings, one of the strings will contain an extra character. Find the extra character. The number of all the other characters in both the strings will be the same. Check the sample input/output for more clarification.\n",
    "\n",
    "#### The code will be case sensitive."
   ]
  },
  {
   "cell_type": "code",
   "execution_count": 3,
   "metadata": {},
   "outputs": [
    {
     "name": "stdout",
     "output_type": "stream",
     "text": [
      "abce\n",
      "abe\n",
      "c\n"
     ]
    }
   ],
   "source": [
    "# Input\n",
    "s1 = input()\n",
    "s2 = input()\n",
    "\n",
    "# Find out which string is longer\n",
    "if (len(s1)> len(s2)):\n",
    "    longer = s1\n",
    "    shorter = s2\n",
    "else:\n",
    "    longer = s2\n",
    "    shorter = s1\n",
    "    \n",
    "# Find the extra char in this longer string\n",
    "\n",
    "for c in longer:\n",
    "    if s1.count(c) != s2.count(c):\n",
    "        print (c)\n",
    "        break"
   ]
  },
  {
   "cell_type": "markdown",
   "metadata": {},
   "source": [
    "## Integer or String\n",
    "#### Description\n",
    "##### You have been using ast.literal_eval() to take input in a suitable format. Have you thought of how does it distinguish between different data types and data structures? We will solve a similar but smaller problem here. You will be given a string as input. You just have to determine if the string can be an integer or no?\n",
    "#### This is also encountered a lot in Data Science. Upon taking a lot of data, sometimes integer values are treated as a string, and due to that a lot of functionalities of integer data which you will learn ahead are rendered useless."
   ]
  },
  {
   "cell_type": "code",
   "execution_count": 4,
   "metadata": {},
   "outputs": [
    {
     "name": "stdout",
     "output_type": "stream",
     "text": [
      "43a\n",
      "STR\n"
     ]
    }
   ],
   "source": [
    "#input has been taken for you\n",
    "in_str=input()\n",
    "\n",
    "#find out if in_str is integer or not\n",
    "type_str = \"INT\"\n",
    "\n",
    "# Gothrough each character of the string & check whether it is a number or not\n",
    "for c in in_str:\n",
    "    if(not c.isdigit()):\n",
    "        type_str = \"STR\"\n",
    "        break\n",
    "        \n",
    "print(type_str)"
   ]
  },
  {
   "cell_type": "markdown",
   "metadata": {},
   "source": [
    "## Cheapest Item\n",
    "### Description\n",
    "#### You will be given a dictionary with keys as items and values as their prices. You have to print the cheapest item. \n"
   ]
  },
  {
   "cell_type": "code",
   "execution_count": 5,
   "metadata": {},
   "outputs": [
    {
     "name": "stdout",
     "output_type": "stream",
     "text": [
      "{'mobile1':10000, 'mobile2':11000, 'mobile3':13000, 'mobile4':9000, 'mobile5':15000, 'mobile6':16000, 'mobile7':17000, 'mobile8':18000, 'mobile9':19000}\n",
      "mobile4: 9000\n"
     ]
    }
   ],
   "source": [
    "#take input here\n",
    "import ast\n",
    "items=ast.literal_eval(input())\n",
    "\n",
    "#start writing your code here\n",
    "\n",
    "#we assign cheapest_item as first key of the items\n",
    "cheapest_item=list(items.keys())[0]\n",
    "\n",
    "#we check every key and see if its cheaper than our cheapest_item\n",
    "for key in items.keys():\n",
    "    if items[key]<items[cheapest_item]:\n",
    "        cheapest_item=key #it its cheaper then we update out cheapest_item\n",
    "\n",
    "#print it\n",
    "print('{0}: {1}'.format(cheapest_item, items[cheapest_item]))"
   ]
  },
  {
   "cell_type": "markdown",
   "metadata": {},
   "source": [
    "## Tallest trees\n",
    "### Description\n",
    "#### You have already heard the saying, tallest trees are cut first. This is the question on same saying. From the lot of trees, find out how many trees will be cut.\n",
    "\n",
    "\n",
    "\n",
    "#### Input: A list of positive integers, denoting the sizes of trees\n",
    "\n",
    "#### Output: An integer denoting how many trees will get cut.\n",
    "\n",
    "\n",
    "\n",
    "#### Only the tallest trees will be cut.\n",
    "\n"
   ]
  },
  {
   "cell_type": "code",
   "execution_count": 2,
   "metadata": {},
   "outputs": [
    {
     "ename": "SyntaxError",
     "evalue": "unexpected EOF while parsing (<unknown>, line 0)",
     "output_type": "error",
     "traceback": [
      "Traceback \u001b[1;36m(most recent call last)\u001b[0m:\n",
      "  File \u001b[0;32m\"C:\\ProgramData\\Anaconda3\\lib\\site-packages\\IPython\\core\\interactiveshell.py\"\u001b[0m, line \u001b[0;32m3326\u001b[0m, in \u001b[0;35mrun_code\u001b[0m\n    exec(code_obj, self.user_global_ns, self.user_ns)\n",
      "  File \u001b[0;32m\"<ipython-input-2-902145555a9d>\"\u001b[0m, line \u001b[0;32m3\u001b[0m, in \u001b[0;35m<module>\u001b[0m\n    trees = ast.literal_eval(input_str)\n",
      "  File \u001b[0;32m\"C:\\ProgramData\\Anaconda3\\lib\\ast.py\"\u001b[0m, line \u001b[0;32m46\u001b[0m, in \u001b[0;35mliteral_eval\u001b[0m\n    node_or_string = parse(node_or_string, mode='eval')\n",
      "\u001b[1;36m  File \u001b[1;32m\"C:\\ProgramData\\Anaconda3\\lib\\ast.py\"\u001b[1;36m, line \u001b[1;32m35\u001b[1;36m, in \u001b[1;35mparse\u001b[1;36m\u001b[0m\n\u001b[1;33m    return compile(source, filename, mode, PyCF_ONLY_AST)\u001b[0m\n",
      "\u001b[1;36m  File \u001b[1;32m\"<unknown>\"\u001b[1;36m, line \u001b[1;32munknown\u001b[0m\n\u001b[1;33m    \u001b[0m\n\u001b[1;37m    ^\u001b[0m\n\u001b[1;31mSyntaxError\u001b[0m\u001b[1;31m:\u001b[0m unexpected EOF while parsing\n"
     ]
    }
   ],
   "source": [
    "import ast,sys\n",
    "input_str = sys.stdin.read()\n",
    "trees = ast.literal_eval(input_str)\n",
    "# find the largest element \n",
    "largest = max(trees) \n",
    "  \n",
    "# Counter variabLle to store the \n",
    "# number of occurrences of largest \n",
    "count = 0\n",
    "for i in trees: \n",
    "      \n",
    "    # If the value of i is  \n",
    "    # equal to the largest element \n",
    "    if(i == largest): \n",
    "        count+= 1\n",
    "          \n",
    "print(count) "
   ]
  },
  {
   "cell_type": "markdown",
   "metadata": {},
   "source": [
    "# Frequency in same order\n",
    "### Description\n",
    "#### You will be given a list of numbers, you have to print the frequencies of occurrences of numbers in the same order as the number occurs in the list. Please check the sample input/output for more details.\n",
    "\n",
    "\n",
    "\n",
    "#### Input: Non empty list of integers\n",
    "\n",
    "\n",
    "\n",
    "#### Output: A list of integers denoting the frequency of the numbers in same order"
   ]
  },
  {
   "cell_type": "code",
   "execution_count": null,
   "metadata": {},
   "outputs": [],
   "source": []
  }
 ],
 "metadata": {
  "kernelspec": {
   "display_name": "Python 3",
   "language": "python",
   "name": "python3"
  },
  "language_info": {
   "codemirror_mode": {
    "name": "ipython",
    "version": 3
   },
   "file_extension": ".py",
   "mimetype": "text/x-python",
   "name": "python",
   "nbconvert_exporter": "python",
   "pygments_lexer": "ipython3",
   "version": "3.7.4"
  }
 },
 "nbformat": 4,
 "nbformat_minor": 2
}
