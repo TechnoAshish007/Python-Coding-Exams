{
 "cells": [
  {
   "cell_type": "markdown",
   "metadata": {},
   "source": [
    "list iteration-0\n",
    "counter-0\n",
    "\n",
    "\n",
    "Pattern printing-0\n",
    "Chocolates-0\n",
    "\n",
    "lego block-0\n",
    "pascal triangle-0\n",
    "\n",
    "Reading the data in console-0\n",
    "list comprehension-0\n",
    "map reduce and filter-0\n",
    "data structure convresion\n",
    "\n",
    "Swapping-0\n",
    "reverse the words\n",
    "fenced matrix\n",
    "Move Vowels\n",
    "\n",
    "return vs print\n",
    "\n",
    "upgrad string\n",
    "\n",
    "Pattern Probelms and Solution: https://www.youtube.com/watch?v=Kux7B1t_yeA&list=PLd3UqWTnYXOmHGIurNDgStXNOsxjItRAz"
   ]
  },
  {
   "cell_type": "code",
   "execution_count": 1,
   "metadata": {},
   "outputs": [
    {
     "name": "stdout",
     "output_type": "stream",
     "text": [
      "12,50\n"
     ]
    }
   ],
   "source": [
    "input_str = input()"
   ]
  },
  {
   "cell_type": "code",
   "execution_count": 13,
   "metadata": {},
   "outputs": [
    {
     "data": {
      "text/plain": [
       "['50']"
      ]
     },
     "execution_count": 13,
     "metadata": {},
     "output_type": "execute_result"
    }
   ],
   "source": [
    "input_str.split(',')[1]"
   ]
  },
  {
   "cell_type": "code",
   "execution_count": 22,
   "metadata": {},
   "outputs": [
    {
     "name": "stdout",
     "output_type": "stream",
     "text": [
      "10\n",
      "11\n"
     ]
    }
   ],
   "source": [
    "m =15\n",
    "c= 2\n",
    "\n",
    "choc = m//c\n",
    "w = m//c\n",
    "wr = m//c\n",
    "\n",
    "# 3-1\n",
    "while w//3!=0:\n",
    "    choc = choc+w//3\n",
    "    w  = w//3 + w%3\n",
    "    wr +=w\n",
    "    \n",
    "print(choc)\n",
    "print(wr)\n"
   ]
  },
  {
   "cell_type": "code",
   "execution_count": null,
   "metadata": {},
   "outputs": [],
   "source": [
    "# For: Know the number of times you need to run the loop\n",
    "# While: When you know cretain condition is true"
   ]
  },
  {
   "cell_type": "markdown",
   "metadata": {},
   "source": [
    "# Lego Stack\n",
    "\n",
    "\n",
    "\n",
    "You are given a row of Lego Blocks consisting of n blocks. All the blocks given have a square base whose side length is known. You need to stack the blocks over each other and create a vertical tower. Block-1 can go over Block-2 only if sideLength(Block-2)=>sideLength(Block-1).\n",
    "\n",
    "From the row of Lego blocks, you can only pick up either the leftmost or rightmost block.\n",
    "\n",
    "Print \"Possible\" if it is possible to stack all n cubes this way or else print \"Impossible\".\n",
    "\n",
    "\n",
    "\n",
    "Input Format:\n",
    "\n",
    "The input will contain a list of n integers representing the side length of each block's base in the row starting from the leftmost.\n",
    "\n",
    "\n",
    "\n",
    "Sample Input:\n",
    "\n",
    "[5 ,4, 2, 1, 4 ,5]\n",
    "\n",
    "Sample Output:\n",
    "\n",
    "Possible"
   ]
  },
  {
   "cell_type": "code",
   "execution_count": 25,
   "metadata": {},
   "outputs": [
    {
     "name": "stdout",
     "output_type": "stream",
     "text": [
      "Impossible\n"
     ]
    }
   ],
   "source": [
    "# You can pick one lego from one side either leftmost or rightmost\n",
    "# block2 >= block1\n",
    "# 1\n",
    "# 2\n",
    "\n",
    "l1 = [5 ,4, 2, 1, 4 ,5]\n",
    "# [5] [4, 2, 1, 4 ,5]\n",
    "# [5,5] [4, 2, 1, 4]\n",
    "# [5,5,4] [2, 1, 4]\n",
    "# [5,5,4,4] [2, 1]\n",
    "# [5,5,4,4,2] [1]\n",
    "# [5,5,4,4,2,1] []\n",
    "\n",
    "l = [1,3,2]\n",
    "# [][1,3,2]\n",
    "# [2][1,3]\n",
    "# [2,3][1]\n",
    "# [2,3,1][]\n",
    "\n",
    "t = []\n",
    "while len(l)!=0:\n",
    "    if l[0]>=l[-1]:\n",
    "        t.append(l[0])\n",
    "        l.remove(l[0])\n",
    "    else:\n",
    "        t.append(l[-1])\n",
    "        l.remove(l[-1])\n",
    "if t == sorted(t, reverse = True):\n",
    "    print(\"Possible\")\n",
    "else:\n",
    "    print(\"Impossible\")"
   ]
  },
  {
   "cell_type": "code",
   "execution_count": 27,
   "metadata": {},
   "outputs": [
    {
     "data": {
      "text/plain": [
       "[3, 2, 1]"
      ]
     },
     "execution_count": 27,
     "metadata": {},
     "output_type": "execute_result"
    }
   ],
   "source": [
    "sorted([1,3,2], reverse = True)"
   ]
  },
  {
   "cell_type": "markdown",
   "metadata": {},
   "source": [
    "## Pascal's Triangle\n",
    "\n",
    "\n",
    "A pascal's triangle is a very interesting mathematical concept.\n",
    "Each number here is a sum of the two numbers directly above it.\n",
    "Following is an 8 level Pascal's triangle:\n",
    "\n",
    "<img src = https://upload.wikimedia.org/wikipedia/commons/c/ca/Pascal_triangle_small.png></img>\n",
    "\n",
    "\n",
    "You can read about Pascal's triangle here.\n",
    "Your task is to print an nth level of Pascal's triangle.\n",
    "The input will contain an integer n.\n",
    "The output will contain 1 line of the list of numbers representing the nth row of Pascal's triangle.\n",
    "\n",
    "Sample Input:\n",
    "6\n",
    "Sample Output:\n",
    "\n",
    "[1, 5, 10, 10, 5, 1]"
   ]
  },
  {
   "cell_type": "code",
   "execution_count": 32,
   "metadata": {},
   "outputs": [],
   "source": [
    "def generate_pascal(rows):\n",
    "    if rows ==1:\n",
    "        return [[1]]\n",
    "    else:\n",
    "        triangle = [[1], [1,1]]\n",
    "        row = [1,1]\n",
    "        for i in range(2, rows):\n",
    "            row = [1] + [sum(column) for column in zip(row[1:], row)] + [1]\n",
    "            triangle.append(row)\n",
    "        return triangle"
   ]
  },
  {
   "cell_type": "code",
   "execution_count": 44,
   "metadata": {},
   "outputs": [
    {
     "data": {
      "text/plain": [
       "[1, 4, 6, 4, 1]"
      ]
     },
     "execution_count": 44,
     "metadata": {},
     "output_type": "execute_result"
    }
   ],
   "source": [
    "generate_pascal(5)[4]"
   ]
  },
  {
   "cell_type": "code",
   "execution_count": 42,
   "metadata": {},
   "outputs": [
    {
     "name": "stdout",
     "output_type": "stream",
     "text": [
      "[3, 3, 1]\n",
      "[1, 3, 3, 1]\n"
     ]
    },
    {
     "data": {
      "text/plain": [
       "[(3, 1), (3, 3), (1, 3)]"
      ]
     },
     "execution_count": 42,
     "metadata": {},
     "output_type": "execute_result"
    }
   ],
   "source": [
    "print(row[1:])\n",
    "print(row)\n",
    "row = [1,3,3,1]\n",
    "list(zip(row[1:], row))"
   ]
  },
  {
   "cell_type": "code",
   "execution_count": 41,
   "metadata": {},
   "outputs": [
    {
     "data": {
      "text/plain": [
       "[3, 3, 1]"
      ]
     },
     "execution_count": 41,
     "metadata": {},
     "output_type": "execute_result"
    }
   ],
   "source": [
    "row[1:]"
   ]
  },
  {
   "cell_type": "code",
   "execution_count": null,
   "metadata": {},
   "outputs": [],
   "source": [
    "row = [1,1]\n",
    "[sum(i) for i in zip(row[1:], row)]"
   ]
  },
  {
   "cell_type": "code",
   "execution_count": 45,
   "metadata": {},
   "outputs": [
    {
     "data": {
      "text/plain": [
       "[1, 4, 9, 16]"
      ]
     },
     "execution_count": 45,
     "metadata": {},
     "output_type": "execute_result"
    }
   ],
   "source": [
    "# List comprehension\n",
    "# output\n",
    "# Location from where it can get the input\n",
    "# Conditional statement\n",
    "\n",
    "ls = [1,2,3,4]\n",
    "[i**2 for i in ls]"
   ]
  },
  {
   "cell_type": "code",
   "execution_count": 53,
   "metadata": {},
   "outputs": [
    {
     "data": {
      "text/plain": [
       "[(4, 3), (5, 5), (6, 3), (7, 3), (9, 2), (7, 2), (9, 6), (8, 2)]"
      ]
     },
     "execution_count": 53,
     "metadata": {},
     "output_type": "execute_result"
    }
   ],
   "source": [
    "l1 = [4,5,3,7,9,2,6,8]\n",
    "l2 = [3,5,6,3,2,7,9,2]\n",
    "l3 = []\n",
    "\n",
    "[(i,j) if i>j else (j, i) for i,j in zip(l1, l2)]\n"
   ]
  },
  {
   "cell_type": "code",
   "execution_count": 54,
   "metadata": {},
   "outputs": [
    {
     "data": {
      "text/plain": [
       "[4, 16]"
      ]
     },
     "execution_count": 54,
     "metadata": {},
     "output_type": "execute_result"
    }
   ],
   "source": [
    "ls = [1,2,3,4,5]\n",
    "[i**2 for i in ls if i%2==0]"
   ]
  },
  {
   "cell_type": "code",
   "execution_count": 71,
   "metadata": {},
   "outputs": [
    {
     "name": "stdout",
     "output_type": "stream",
     "text": [
      "CS\n",
      "ECE\n",
      "NA\n"
     ]
    },
    {
     "data": {
      "text/plain": [
       "['Ram', 'Shyam', 'Vinod']"
      ]
     },
     "execution_count": 71,
     "metadata": {},
     "output_type": "execute_result"
    }
   ],
   "source": [
    "l1 = [\"Ram\", \"Shyam\", \"Ravi\", \"Vinod\"]\n",
    "l2 = [[\"Ram\", \"CS\"], [\"Shyam\", \"ECE\"], [\"Vinod\", \"NA\"]]\n",
    "\n",
    "for i in l1:\n",
    "    for j in l2:\n",
    "        if i== j[0]:\n",
    "            print(j[1])\n",
    "        \n",
    "\n",
    "[i for i in l1 for j in l2 if i in j]"
   ]
  },
  {
   "cell_type": "code",
   "execution_count": 75,
   "metadata": {},
   "outputs": [
    {
     "data": {
      "text/plain": [
       "[1, 4, 9, 16, 25]"
      ]
     },
     "execution_count": 75,
     "metadata": {},
     "output_type": "execute_result"
    }
   ],
   "source": [
    "# Map: Apply a certain function to each element of a list\n",
    "\n",
    "ls = [1,2,3,4,5]\n",
    "# [1,4,9,16,25]\n",
    "# [i**2 for i in ls]\n",
    "\n",
    "list(map(lambda x:x**2, ls))"
   ]
  },
  {
   "cell_type": "code",
   "execution_count": 76,
   "metadata": {},
   "outputs": [
    {
     "data": {
      "text/plain": [
       "['randome1', 'random2']"
      ]
     },
     "execution_count": 76,
     "metadata": {},
     "output_type": "execute_result"
    }
   ],
   "source": [
    "ls = [\"RANDOME1\", \"RANDOM2\"]\n",
    "list(map(lambda x:x.lower(), ls))"
   ]
  },
  {
   "cell_type": "code",
   "execution_count": 78,
   "metadata": {},
   "outputs": [
    {
     "data": {
      "text/plain": [
       "[2, 4, 6]"
      ]
     },
     "execution_count": 78,
     "metadata": {},
     "output_type": "execute_result"
    }
   ],
   "source": [
    "## Filter: To filter some elements based on a condition\n",
    "\n",
    "ls = [1,2,3,4,5,6]\n",
    "list(filter(lambda x:x%2==0, ls))"
   ]
  },
  {
   "cell_type": "code",
   "execution_count": 79,
   "metadata": {},
   "outputs": [
    {
     "data": {
      "text/plain": [
       "[1, 2, 5]"
      ]
     },
     "execution_count": 79,
     "metadata": {},
     "output_type": "execute_result"
    }
   ],
   "source": [
    "ls = ['sumit', 1, 2, \"Raj\", 5]\n",
    "list(filter(lambda x:type(x)==int, ls))"
   ]
  },
  {
   "cell_type": "code",
   "execution_count": 80,
   "metadata": {},
   "outputs": [
    {
     "data": {
      "text/plain": [
       "False"
      ]
     },
     "execution_count": 80,
     "metadata": {},
     "output_type": "execute_result"
    }
   ],
   "source": [
    "\"sumit\".isdigit()"
   ]
  },
  {
   "cell_type": "code",
   "execution_count": 84,
   "metadata": {},
   "outputs": [
    {
     "data": {
      "text/plain": [
       "True"
      ]
     },
     "execution_count": 84,
     "metadata": {},
     "output_type": "execute_result"
    }
   ],
   "source": [
    "\"1\".isdigit()"
   ]
  },
  {
   "cell_type": "code",
   "execution_count": 85,
   "metadata": {},
   "outputs": [
    {
     "data": {
      "text/plain": [
       "21"
      ]
     },
     "execution_count": 85,
     "metadata": {},
     "output_type": "execute_result"
    }
   ],
   "source": [
    "## Reduce: iterative process, applies a function iteratively on a list of elements and return one unique output\n",
    "\n",
    "from functools import reduce\n",
    "ls = [1,2,3,4,5,6]\n",
    "reduce(lambda x,y: x+y, ls)"
   ]
  },
  {
   "cell_type": "code",
   "execution_count": 91,
   "metadata": {},
   "outputs": [
    {
     "name": "stdout",
     "output_type": "stream",
     "text": [
      "1\n"
     ]
    }
   ],
   "source": [
    "# Factoricals\n",
    "\n",
    "# 3! = 3*2*1\n",
    "# 4! = 4*3*2*1\n",
    "\n",
    "n =0\n",
    "if n==0:\n",
    "    print(1)\n",
    "else:\n",
    "    print(reduce(lambda x,y:x*y, range(1,n+1)))"
   ]
  },
  {
   "cell_type": "code",
   "execution_count": 88,
   "metadata": {},
   "outputs": [
    {
     "data": {
      "text/plain": [
       "[1, 2, 3]"
      ]
     },
     "execution_count": 88,
     "metadata": {},
     "output_type": "execute_result"
    }
   ],
   "source": [
    "[i for i in range(1,n+1)]"
   ]
  },
  {
   "cell_type": "code",
   "execution_count": 94,
   "metadata": {},
   "outputs": [
    {
     "data": {
      "text/plain": [
       "[[1], [1, 1]]"
      ]
     },
     "execution_count": 94,
     "metadata": {},
     "output_type": "execute_result"
    }
   ],
   "source": [
    "generate_pascal(2)"
   ]
  },
  {
   "cell_type": "markdown",
   "metadata": {},
   "source": [
    "def: Named function\n",
    "lambda: Anonymous function"
   ]
  },
  {
   "cell_type": "code",
   "execution_count": 103,
   "metadata": {},
   "outputs": [
    {
     "data": {
      "text/plain": [
       "str"
      ]
     },
     "execution_count": 103,
     "metadata": {},
     "output_type": "execute_result"
    }
   ],
   "source": [
    "s = \"[[1,2,3,4],5]\"\n",
    "type(s)"
   ]
  },
  {
   "cell_type": "code",
   "execution_count": 105,
   "metadata": {},
   "outputs": [
    {
     "name": "stdout",
     "output_type": "stream",
     "text": [
      "[1, 2, 3, 4]\n",
      "5\n"
     ]
    }
   ],
   "source": [
    "import ast\n",
    "print(ast.literal_eval(s)[0])\n",
    "print(ast.literal_eval(s)[1])"
   ]
  },
  {
   "cell_type": "code",
   "execution_count": 98,
   "metadata": {},
   "outputs": [
    {
     "name": "stdout",
     "output_type": "stream",
     "text": [
      "{'a':1, 'b':2, 'c':3}\n"
     ]
    }
   ],
   "source": [
    "s = input()"
   ]
  },
  {
   "cell_type": "code",
   "execution_count": 100,
   "metadata": {},
   "outputs": [
    {
     "data": {
      "text/plain": [
       "str"
      ]
     },
     "execution_count": 100,
     "metadata": {},
     "output_type": "execute_result"
    }
   ],
   "source": [
    "type(s)"
   ]
  },
  {
   "cell_type": "code",
   "execution_count": 102,
   "metadata": {},
   "outputs": [
    {
     "data": {
      "text/plain": [
       "dict"
      ]
     },
     "execution_count": 102,
     "metadata": {},
     "output_type": "execute_result"
    }
   ],
   "source": [
    "type(ast.literal_eval(s))"
   ]
  },
  {
   "cell_type": "code",
   "execution_count": 106,
   "metadata": {},
   "outputs": [],
   "source": [
    "ls = [1,2,3,4,5,6,7,8,9]\n",
    "\n",
    "def return_even(a):\n",
    "    b = [i for i in a if i%2==0]\n",
    "    return b"
   ]
  },
  {
   "cell_type": "code",
   "execution_count": 114,
   "metadata": {},
   "outputs": [
    {
     "name": "stdout",
     "output_type": "stream",
     "text": [
      "[4, 8, 6, 8]\n"
     ]
    }
   ],
   "source": [
    "l = [4,8,6,8,9]\n",
    "print(return_even(l))"
   ]
  },
  {
   "cell_type": "code",
   "execution_count": 115,
   "metadata": {},
   "outputs": [],
   "source": [
    "from collections import Counter"
   ]
  },
  {
   "cell_type": "code",
   "execution_count": 116,
   "metadata": {},
   "outputs": [
    {
     "data": {
      "text/plain": [
       "Counter({1: 2, 2: 5, 3: 3, 6: 1, 4: 4, 5: 4, 7: 3, 8: 1})"
      ]
     },
     "execution_count": 116,
     "metadata": {},
     "output_type": "execute_result"
    }
   ],
   "source": [
    "ls = [1,2,3,1,2,3,6,4,5,7,4,2,5,7,8,4,2,5,7,5,4,3,2]\n",
    "Counter(ls)"
   ]
  },
  {
   "cell_type": "code",
   "execution_count": 120,
   "metadata": {},
   "outputs": [
    {
     "data": {
      "text/plain": [
       "[('a', 4), ('d', 3)]"
      ]
     },
     "execution_count": 120,
     "metadata": {},
     "output_type": "execute_result"
    }
   ],
   "source": [
    "s = \"abcdabdcgedsk;aiefmsna\"\n",
    "Counter(s).most_common(2)"
   ]
  },
  {
   "cell_type": "code",
   "execution_count": 121,
   "metadata": {},
   "outputs": [
    {
     "name": "stdout",
     "output_type": "stream",
     "text": [
      "1\n",
      "2\n",
      "3\n",
      "4\n",
      "5\n",
      "6\n"
     ]
    }
   ],
   "source": [
    "ls = [1,2,3,4,5,6]\n",
    "\n",
    "for i in ls:\n",
    "    print(i)"
   ]
  },
  {
   "cell_type": "code",
   "execution_count": 125,
   "metadata": {},
   "outputs": [
    {
     "name": "stdout",
     "output_type": "stream",
     "text": [
      "0\n",
      "1\n",
      "2\n",
      "3\n",
      "4\n",
      "5\n"
     ]
    }
   ],
   "source": [
    "ls = [1,2,3,4,5,6]\n",
    "\n",
    "for i in range(0, len(ls)):\n",
    "    print(i)"
   ]
  },
  {
   "cell_type": "code",
   "execution_count": 123,
   "metadata": {},
   "outputs": [
    {
     "name": "stdout",
     "output_type": "stream",
     "text": [
      "(0, 1)\n",
      "(1, 2)\n",
      "(2, 3)\n",
      "(3, 4)\n",
      "(4, 5)\n",
      "(5, 6)\n"
     ]
    }
   ],
   "source": [
    "for i in enumerate(ls):\n",
    "    print(i)"
   ]
  },
  {
   "cell_type": "code",
   "execution_count": 2,
   "metadata": {},
   "outputs": [],
   "source": [
    "a = list(\"abx\")"
   ]
  },
  {
   "cell_type": "code",
   "execution_count": 1,
   "metadata": {},
   "outputs": [
    {
     "data": {
      "text/plain": [
       "['a', 'b', 'c']"
      ]
     },
     "execution_count": 1,
     "metadata": {},
     "output_type": "execute_result"
    }
   ],
   "source": [
    "list('abc')"
   ]
  },
  {
   "cell_type": "code",
   "execution_count": null,
   "metadata": {},
   "outputs": [],
   "source": [
    "# dict\n",
    "# str\n",
    "# type\n",
    "# True\n",
    "# a\n",
    "# b\n",
    "# x"
   ]
  },
  {
   "cell_type": "code",
   "execution_count": 4,
   "metadata": {},
   "outputs": [
    {
     "data": {
      "text/plain": [
       "[6, 0, 0, 0]"
      ]
     },
     "execution_count": 4,
     "metadata": {},
     "output_type": "execute_result"
    }
   ],
   "source": [
    "s = 6000\n",
    "a = []\n",
    "for i in str(s):\n",
    "    a.append(int(i))\n",
    "a"
   ]
  },
  {
   "cell_type": "code",
   "execution_count": 5,
   "metadata": {},
   "outputs": [
    {
     "ename": "TypeError",
     "evalue": "'int' object is not iterable",
     "output_type": "error",
     "traceback": [
      "\u001b[1;31m---------------------------------------------------------------------------\u001b[0m",
      "\u001b[1;31mTypeError\u001b[0m                                 Traceback (most recent call last)",
      "\u001b[1;32m<ipython-input-5-ee0c7ddcea6c>\u001b[0m in \u001b[0;36m<module>\u001b[1;34m\u001b[0m\n\u001b[1;32m----> 1\u001b[1;33m \u001b[1;32mfor\u001b[0m \u001b[0mi\u001b[0m \u001b[1;32min\u001b[0m \u001b[0ms\u001b[0m\u001b[1;33m:\u001b[0m\u001b[1;33m\u001b[0m\u001b[1;33m\u001b[0m\u001b[0m\n\u001b[0m\u001b[0;32m      2\u001b[0m     \u001b[0mprint\u001b[0m\u001b[1;33m(\u001b[0m\u001b[0mi\u001b[0m\u001b[1;33m)\u001b[0m\u001b[1;33m\u001b[0m\u001b[1;33m\u001b[0m\u001b[0m\n",
      "\u001b[1;31mTypeError\u001b[0m: 'int' object is not iterable"
     ]
    }
   ],
   "source": [
    "for i in s:\n",
    "    print(i)"
   ]
  },
  {
   "cell_type": "code",
   "execution_count": 15,
   "metadata": {},
   "outputs": [
    {
     "data": {
      "text/plain": [
       "[[0, 0, 0, 0, 0],\n",
       " [0, 0, 0, 0, 0],\n",
       " [0, 0, 0, 0, 0],\n",
       " [0, 0, 0, 0, 0],\n",
       " [0, 0, 0, 0, 0]]"
      ]
     },
     "execution_count": 15,
     "metadata": {},
     "output_type": "execute_result"
    }
   ],
   "source": [
    "# final =[0]*5\n",
    "# [list(final) for i in range(5)]\n",
    "\n",
    "# :-it is printing[5*5 matrix of zeoes\n",
    "\n",
    "# and\n",
    "\n",
    "# 2. \n",
    "final= [0]*5\n",
    "out = []\n",
    "for i in range(5):\n",
    "    out.append(list(final))\n",
    "out\n",
    "# here getting only one row of 5 zero matrix\n",
    "\n",
    "# [0,0,0,0,0]"
   ]
  }
 ],
 "metadata": {
  "kernelspec": {
   "display_name": "Python 3",
   "language": "python",
   "name": "python3"
  },
  "language_info": {
   "codemirror_mode": {
    "name": "ipython",
    "version": 3
   },
   "file_extension": ".py",
   "mimetype": "text/x-python",
   "name": "python",
   "nbconvert_exporter": "python",
   "pygments_lexer": "ipython3",
   "version": "3.7.4"
  }
 },
 "nbformat": 4,
 "nbformat_minor": 2
}
