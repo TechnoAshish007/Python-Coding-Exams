{
 "cells": [
  {
   "cell_type": "markdown",
   "metadata": {},
   "source": [
    "##### Gambling 101\n",
    "\n",
    "You are participating in a lottery game. A deck of cards numbered from 1-50 is shuffled and 5 cards are drawn out and laid out. You are given a coin. For each card, you toss the coin and pick it up if it says heads, otherwise you don't pick it up. The sum of the cards is what you win.\n",
    "The lottery ticket costs c rupees. If the expected value of the sum of cards you pick up is less than the lottery ticket, then you buy another ticket otherwise you don't."
   ]
  },
  {
   "cell_type": "code",
   "execution_count": 1,
   "metadata": {},
   "outputs": [
    {
     "name": "stdout",
     "output_type": "stream",
     "text": [
      "2\n",
      "4\n",
      "6\n",
      "8\n",
      "10\n",
      "10\n",
      "Buy another one\n"
     ]
    }
   ],
   "source": [
    "sum=0\n",
    "for i in range(0,5):\n",
    "    sum=sum+int(input())/2\n",
    "\n",
    "if sum<=int(input()):\n",
    "    print(\"Don't buy another\")\n",
    "else:\n",
    "    print(\"Buy another one\")"
   ]
  },
  {
   "cell_type": "markdown",
   "metadata": {},
   "source": [
    "##### Generating normal distribution\n",
    "Generate an array of real numbers representing a normal distribution. You will be given the mean and standard deviation as input. You have to generate 10 such numbers.\n",
    "Hint: You can use numpy's np.random here.  You can read more about it here.\n",
    "To keep the output consistent, you have to set the seed as a specific number which will be given to you as input. Setting a seed means that every time you generate random numbers, they will be the same for the same seed. You can read more about it here.\n",
    "\n",
    "###### Input Format:\n",
    "The input will contain 3 lines which have the seed, mean and standard deviation of the distribution in the same order.\n",
    "The output will be a numpy array of the generated normal distribution."
   ]
  },
  {
   "cell_type": "code",
   "execution_count": 5,
   "metadata": {},
   "outputs": [
    {
     "name": "stdout",
     "output_type": "stream",
     "text": [
      "1\n",
      ".5\n",
      ".3\n",
      "[ 0.98730361  0.31647308  0.34154847  0.17810941  0.75962229 -0.19046161\n",
      "  1.02344353  0.27163793  0.59571173  0.42518889]\n"
     ]
    }
   ],
   "source": [
    "import numpy as np \n",
    "seed=int(input())\n",
    "mean=float(input())\n",
    "std_dev=float(input())\n",
    "np.random.seed(seed)\n",
    "s = np.random.normal(mean, std_dev, 10)\n",
    "print(s)"
   ]
  },
  {
   "cell_type": "markdown",
   "metadata": {},
   "source": [
    "##### Confidence Intervals\n",
    "For a given column in a dataframe, you have to calculate the 90 percent confidence interval for its mean value. (You can find Z* value for 90 percent confidence from previous segments)\n",
    "The input will have the column name. \n",
    "The output should have the confidence interval printed as a tuple.\n",
    "Note: Do not use the inbuilt function via statmodels.api or any other libraries. You should write the code on your own to get accurate answers.\n",
    "The confidence interval values have to be approximated up to two decimal places."
   ]
  },
  {
   "cell_type": "code",
   "execution_count": 6,
   "metadata": {},
   "outputs": [
    {
     "name": "stdout",
     "output_type": "stream",
     "text": [
      "GRE Score\n",
      "(315.86, 317.75)\n"
     ]
    }
   ],
   "source": [
    "import pandas as pd \n",
    "import numpy as np\n",
    "df=pd.read_csv(\"https://media-doselect.s3.amazonaws.com/generic/N9LKLvBAx1y14PLoBdL0yRn3/Admission_Predict.csv\")\n",
    "# df.head()\n",
    "col=input()\n",
    "mean = df[col].mean()\n",
    "sd = df[col].std()\n",
    "n = len(df)\n",
    "Zstar=1.65\n",
    "se = sd/np.sqrt(n)\n",
    "lcb = mean - Zstar * se\n",
    "ucb = mean + Zstar * se\n",
    "print((round(lcb,2),round(ucb,2)))\n",
    "\n",
    "#via statmodels.api you can do this as follows:\n",
    "#import statsmodels.api as sm\n",
    "# #sm.stats.DescrStatsW(df[col]).zconfint_mean()"
   ]
  },
  {
   "cell_type": "markdown",
   "metadata": {},
   "source": [
    "###### College admissions\n",
    "The probability that a college will accept a student's application is x.\n",
    "Consider that m students have applied to college. You have to find the probability that at most n students are accepted by the college.\n",
    "The input will contain three lines with x, m and n respectively.\n",
    "The output should be rounded off to four decimal places."
   ]
  },
  {
   "cell_type": "code",
   "execution_count": 11,
   "metadata": {},
   "outputs": [
    {
     "name": "stdout",
     "output_type": "stream",
     "text": [
      "0.3\n",
      "5\n",
      "2\n",
      "0.8369\n"
     ]
    }
   ],
   "source": [
    "import scipy.stats as ss\n",
    "x=float(input())\n",
    "m=int(input())\n",
    "n=int(input())\n",
    "dist=ss.binom(m,x)\n",
    "# print(dist)\n",
    "sum=0.0\n",
    "for i in range(0,n+1):\n",
    "    sum=sum+dist.pmf(i)\n",
    "print(round(sum,4))"
   ]
  },
  {
   "cell_type": "markdown",
   "metadata": {},
   "source": [
    "###### Tossing a coin\n",
    "Given that you are tossing a coin n times, you have to find the probability of getting heads at most m times.\n",
    "The input will have two lines containing n and m respectively."
   ]
  },
  {
   "cell_type": "code",
   "execution_count": 12,
   "metadata": {},
   "outputs": [
    {
     "name": "stdout",
     "output_type": "stream",
     "text": [
      "10\n",
      "2\n",
      "0.0547\n"
     ]
    }
   ],
   "source": [
    "import scipy.stats as ss\n",
    "n=int(input())#number of trials\n",
    "m=int(input())# find the probability of getting at most m heads\n",
    "dist=ss.binom(n,0.5)\n",
    "sum=0.0\n",
    "for i in range(0,m+1):\n",
    "    sum=sum+dist.pmf(i)\n",
    "print(round(sum,4))\n",
    "#you can also use the following\n",
    "#round(dist.cdf(m),2)"
   ]
  },
  {
   "cell_type": "markdown",
   "metadata": {},
   "source": [
    "###### Combination Theory\n",
    "You are given a list of n natural numbers. You select m numbers from the list at random. \n",
    "Find the probability that at least one of the selected alphabets is \"x\" where x is a number given to you as input.\n",
    "The first line of input will contain a list of numbers. The second line will contain m and the third line will contain x.\n",
    "The output should be printed out as float."
   ]
  },
  {
   "cell_type": "code",
   "execution_count": 21,
   "metadata": {},
   "outputs": [
    {
     "ename": "IndexError",
     "evalue": "string index out of range",
     "output_type": "error",
     "traceback": [
      "\u001b[1;31m---------------------------------------------------------------------------\u001b[0m",
      "\u001b[1;31mIndexError\u001b[0m                                Traceback (most recent call last)",
      "\u001b[1;32m<ipython-input-21-9387ad608dce>\u001b[0m in \u001b[0;36m<module>\u001b[1;34m\u001b[0m\n\u001b[0;32m      2\u001b[0m \u001b[1;31m# input_str = sys.stdin.read()\u001b[0m\u001b[1;33m\u001b[0m\u001b[1;33m\u001b[0m\u001b[1;33m\u001b[0m\u001b[0m\n\u001b[0;32m      3\u001b[0m \u001b[0minput_list\u001b[0m \u001b[1;33m=\u001b[0m \u001b[0mstr\u001b[0m\u001b[1;33m(\u001b[0m\u001b[0minput_str\u001b[0m\u001b[1;33m)\u001b[0m\u001b[1;33m\u001b[0m\u001b[1;33m\u001b[0m\u001b[0m\n\u001b[1;32m----> 4\u001b[1;33m \u001b[0mnums\u001b[0m\u001b[1;33m=\u001b[0m\u001b[0minput_list\u001b[0m\u001b[1;33m[\u001b[0m\u001b[1;36m0\u001b[0m\u001b[1;33m]\u001b[0m\u001b[1;33m\u001b[0m\u001b[1;33m\u001b[0m\u001b[0m\n\u001b[0m\u001b[0;32m      5\u001b[0m \u001b[0mm\u001b[0m\u001b[1;33m=\u001b[0m\u001b[0mint\u001b[0m\u001b[1;33m(\u001b[0m\u001b[0minput_list\u001b[0m\u001b[1;33m[\u001b[0m\u001b[1;36m1\u001b[0m\u001b[1;33m]\u001b[0m\u001b[1;33m)\u001b[0m\u001b[1;31m#m numbers are chosen\u001b[0m\u001b[1;33m\u001b[0m\u001b[1;33m\u001b[0m\u001b[0m\n\u001b[0;32m      6\u001b[0m \u001b[0mx\u001b[0m\u001b[1;33m=\u001b[0m\u001b[0mint\u001b[0m\u001b[1;33m(\u001b[0m\u001b[0minput_list\u001b[0m\u001b[1;33m[\u001b[0m\u001b[1;36m2\u001b[0m\u001b[1;33m]\u001b[0m\u001b[1;33m)\u001b[0m\u001b[1;31m#find probability of getting at least one x\u001b[0m\u001b[1;33m\u001b[0m\u001b[1;33m\u001b[0m\u001b[0m\n",
      "\u001b[1;31mIndexError\u001b[0m: string index out of range"
     ]
    }
   ],
   "source": [
    "import ast,sys\n",
    "input_str = sys.stdin.read()\n",
    "input_list = str(input_str)\n",
    "nums=input_list[0]\n",
    "m=int(input_list[1])#m numbers are chosen\n",
    "x=int(input_list[2])#find probability of getting at least one x \n",
    "from itertools import combinations \n",
    "num = 0\n",
    "den = 0\n",
    "for c in combinations(nums,m):\n",
    "    den=den+1\n",
    "    if x in c:\n",
    "        num=num+1\n",
    "    \n",
    "print (float(num)/den)"
   ]
  },
  {
   "cell_type": "markdown",
   "metadata": {},
   "source": [
    "#### Rolling the dice\n",
    "A die is rolled n times. You have to find the probability that a number i is rolled at least j times(up to four decimal places)\n",
    "The input will contain the integers n, i and j in three lines respectively. You can assume that j<n and 0<i<7.\n",
    "The output should be rounded off to four decimal places."
   ]
  },
  {
   "cell_type": "code",
   "execution_count": 23,
   "metadata": {},
   "outputs": [
    {
     "name": "stdout",
     "output_type": "stream",
     "text": [
      "4\n",
      "1\n",
      "2\n",
      "0.1319\n"
     ]
    }
   ],
   "source": [
    "import scipy.stats as ss\n",
    "n=int(input())\n",
    "i=int(input())\n",
    "j=int(input())\n",
    "dist=ss.binom(n,1/6)\n",
    "print(round(1-dist.cdf(j-1),4))"
   ]
  },
  {
   "cell_type": "markdown",
   "metadata": {},
   "source": [
    "###### Lego Stack\n",
    "You are given a row of Lego Blocks consisting of n blocks. All the blocks given have a square base whose side length is known. You need to stack the blocks over each other and create a vertical tower. Block-1 can go over Block-2 only if sideLength(Block-2)>sideLength(Block-1).\n",
    "From the row of Lego blocks, you on only pick up either the leftmost or rightmost block.\n",
    "Print \"Possible\" if it is possible to stack all n cubes this way or else print \"Impossible\".\n",
    "\n",
    "###### Input Format:\n",
    "The input will contain a list of n integers representing the side length of each block's base in the row starting from the leftmost."
   ]
  },
  {
   "cell_type": "code",
   "execution_count": 24,
   "metadata": {},
   "outputs": [
    {
     "ename": "SyntaxError",
     "evalue": "unexpected EOF while parsing (<unknown>, line 0)",
     "output_type": "error",
     "traceback": [
      "Traceback \u001b[1;36m(most recent call last)\u001b[0m:\n",
      "  File \u001b[0;32m\"C:\\ProgramData\\Anaconda3\\lib\\site-packages\\IPython\\core\\interactiveshell.py\"\u001b[0m, line \u001b[0;32m3326\u001b[0m, in \u001b[0;35mrun_code\u001b[0m\n    exec(code_obj, self.user_global_ns, self.user_ns)\n",
      "  File \u001b[0;32m\"<ipython-input-24-0509b5e9f195>\"\u001b[0m, line \u001b[0;32m3\u001b[0m, in \u001b[0;35m<module>\u001b[0m\n    sides = ast.literal_eval(input_str)#list of side lengths\n",
      "  File \u001b[0;32m\"C:\\ProgramData\\Anaconda3\\lib\\ast.py\"\u001b[0m, line \u001b[0;32m46\u001b[0m, in \u001b[0;35mliteral_eval\u001b[0m\n    node_or_string = parse(node_or_string, mode='eval')\n",
      "\u001b[1;36m  File \u001b[1;32m\"C:\\ProgramData\\Anaconda3\\lib\\ast.py\"\u001b[1;36m, line \u001b[1;32m35\u001b[1;36m, in \u001b[1;35mparse\u001b[1;36m\u001b[0m\n\u001b[1;33m    return compile(source, filename, mode, PyCF_ONLY_AST)\u001b[0m\n",
      "\u001b[1;36m  File \u001b[1;32m\"<unknown>\"\u001b[1;36m, line \u001b[1;32munknown\u001b[0m\n\u001b[1;33m    \u001b[0m\n\u001b[1;37m    ^\u001b[0m\n\u001b[1;31mSyntaxError\u001b[0m\u001b[1;31m:\u001b[0m unexpected EOF while parsing\n"
     ]
    }
   ],
   "source": [
    "import ast,sys\n",
    "input_str = sys.stdin.read()\n",
    "sides = ast.literal_eval(input_str)#list of side lengths\n",
    "l=len(sides)\n",
    "diff = [(sides[i]-sides[i+1]) for i in range(l-1)]\n",
    "i = 0 \n",
    "while (i<l-1 and diff[i]>=0) : i += 1 \n",
    "while (i<l-1 and diff[i]<=0) : i += 1\n",
    "if (i==l-1) : print(\"Possible\") \n",
    "else : print(\"Impossible\")\n",
    "\n",
    "    \n",
    "#to understand the code, try printing out all intermediate variables."
   ]
  },
  {
   "cell_type": "markdown",
   "metadata": {},
   "source": [
    "###### Generating Binomial Distribution\n",
    "Description\n",
    "Generate a binomial distribution, tested 10 times, given the number of trials(n) and probability(p) of each trial.\n",
    "\n",
    "The input will contain seed, n and p in the same order.\n",
    "\n",
    "The output should contain a numpy array with 10 numbers representing the required binomial distribution.\n",
    "\n",
    "Hint: You can use numpy's random number generator here too. Remember to set the seed before generating numbers to ensure correct output.\n",
    "\n",
    "Sample Input:"
   ]
  },
  {
   "cell_type": "code",
   "execution_count": 1,
   "metadata": {},
   "outputs": [
    {
     "name": "stdout",
     "output_type": "stream",
     "text": [
      "5\n",
      "7\n",
      ".70\n",
      "[6 4 6 3 5 5 4 5 6 6]\n"
     ]
    }
   ],
   "source": [
    "import numpy as np \n",
    "seed=int(input())\n",
    "n=int(input())\n",
    "p=float(input())\n",
    "np.random.seed(seed)\n",
    "s = np.random.binomial(n, p, 10)\n",
    "print(s)"
   ]
  },
  {
   "cell_type": "markdown",
   "metadata": {},
   "source": [
    "###### Coloured cards\n",
    "Description\n",
    "A card stack contains white and black cards. Two cards are drawn randomly without replacement. The probability of selecting a white and then a black card is x. The probability of selecting a white card in the first draw is y. You have to find the probability of drawing a black card, given that the first card drawn was white.\n",
    "The input will contain two lines with x and y respectively.  \n",
    "The output should be displayed as a float(no need to round it off)."
   ]
  },
  {
   "cell_type": "code",
   "execution_count": 2,
   "metadata": {},
   "outputs": [
    {
     "name": "stdout",
     "output_type": "stream",
     "text": [
      ".5\n",
      ".3\n",
      "1.6666666666666667\n"
     ]
    }
   ],
   "source": [
    "x=float(input())\n",
    "y=float(input())\n",
    "#write your code here\n",
    "p_b=x/y\n",
    "print(p_b)"
   ]
  },
  {
   "cell_type": "markdown",
   "metadata": {},
   "source": [
    "##### Entrance Test\n",
    "Description\n",
    "Consider that the scores of an entrance test are normally distributed. \n",
    "If the test has a mean of m and a standard deviation of s.\n",
    "You have set the cut off as 90 marks for the test. What is the probability of a student passing the test?\n",
    "The input will contain m and s in two lines in the same order. The output has to be rounded off to two decimal places."
   ]
  },
  {
   "cell_type": "code",
   "execution_count": 4,
   "metadata": {},
   "outputs": [
    {
     "name": "stdout",
     "output_type": "stream",
     "text": [
      "100\n",
      "10\n",
      "0.84\n"
     ]
    }
   ],
   "source": [
    "import scipy.stats as ss\n",
    "m=float(input())#mean\n",
    "sd=float(input())#standard deviation\n",
    "x = 90\n",
    "s = ss.norm.cdf(x,m,sd)\n",
    "print(round((1-s), 2))"
   ]
  },
  {
   "cell_type": "markdown",
   "metadata": {},
   "source": [
    "###### Symmetric triangle\n",
    "Description\n",
    "A symmetric triangle of level 5 would look as follows:\n",
    "\n",
    "1\n",
    "121\n",
    "12321\n",
    "1234321\n",
    "123454321\n",
    "\n",
    "As you can see, each row here is a palindrome. Your task is to print an n level symmetric triangle.\n",
    "Note: There should be no spaces between the numbers in the triangle.\n"
   ]
  },
  {
   "cell_type": "code",
   "execution_count": 5,
   "metadata": {},
   "outputs": [
    {
     "name": "stdout",
     "output_type": "stream",
     "text": [
      "5\n",
      "1\n",
      "121\n",
      "12321\n",
      "1234321\n",
      "123454321\n"
     ]
    }
   ],
   "source": [
    "n=int(input())\n",
    "def palindrome(n):\n",
    "    for i in range(1, n + 1):\n",
    "        print(int('1' * i)**2)\n",
    "\n",
    "palindrome(n)"
   ]
  },
  {
   "cell_type": "code",
   "execution_count": null,
   "metadata": {},
   "outputs": [],
   "source": []
  }
 ],
 "metadata": {
  "kernelspec": {
   "display_name": "Python 3",
   "language": "python",
   "name": "python3"
  },
  "language_info": {
   "codemirror_mode": {
    "name": "ipython",
    "version": 3
   },
   "file_extension": ".py",
   "mimetype": "text/x-python",
   "name": "python",
   "nbconvert_exporter": "python",
   "pygments_lexer": "ipython3",
   "version": "3.7.4"
  }
 },
 "nbformat": 4,
 "nbformat_minor": 2
}
